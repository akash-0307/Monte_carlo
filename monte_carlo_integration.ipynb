{
 "cells": [
  {
   "cell_type": "markdown",
   "id": "82b980fc",
   "metadata": {},
   "source": [
    "# What is Monte-Carlo simulation?\n",
    "Monte Carlo simulations is a way of solving probabilistic problems by numerically simulating many possible scenarios so that you may calculate statistical properties of the outcomes, such as expectations, variances of probabilities of certain outcomes. \n",
    "In the case of Financial Derivatives, this gives us a handy tool for which to price complex derivatives for which and analytical formulae is not possible. \n",
    "First used by Boyle in 1977, Monte Carlo simulation provides an easy way to deal with multiple random factors and the incorporation of more realistic asset price processes such as jumps in asset prices.\n"
   ]
  },
  {
   "cell_type": "code",
   "execution_count": 13,
   "id": "a8856dea",
   "metadata": {},
   "outputs": [],
   "source": [
    "import numpy as np\n",
    "import matplotlib.pyplot as plt\n",
    "import random\n"
   ]
  },
  {
   "cell_type": "markdown",
   "id": "9dc28760",
   "metadata": {},
   "source": [
    "# Integartion of sin(x) in 0 to pi using Monte-carlo simulation:\n",
    "\n",
    "we will be generating random numbers in the specified interval and will be finding the integral by $\\int_a^b f(x) \\, dx$ $= <f>*(b-a)$ where $<f>$ is the average value of the function over the interval $a$ to $b$ . Now we can subsitute $<f>=$  $(\\sum_{i=0}^N f(x_i))/N$\n",
    "\n"
   ]
  },
  {
   "cell_type": "code",
   "execution_count": 60,
   "id": "00499307",
   "metadata": {},
   "outputs": [],
   "source": [
    " \n",
    "def func(x):\n",
    "    return np.sin(x) \n",
    "\n",
    "a=0;\n",
    "b=np.pi #limits of integration\n",
    "N=1000 # number of radom samples\n",
    "area=[]\n",
    "for i in range(N):    \n",
    "    xrand=np.zeros(N)\n",
    "    for i in range(len(xrand)):\n",
    "        xrand[i]=random.uniform(a,b)\n",
    "        integral=0.0\n",
    "    for i in range(N):\n",
    "        integral+=func(xrand[i])\n",
    "     \n",
    "    answer=(b-a)/float(N)*integral\n",
    "    area.append(answer)\n",
    " \n",
    "\n",
    "\n",
    " "
   ]
  },
  {
   "cell_type": "markdown",
   "id": "5cb9c3a5",
   "metadata": {},
   "source": [
    "# plotting the histogram\n",
    "Now we have calculated $N$ different values of the integral by generating $N$ random samples.We will plot the corresponding histogram, We can clearly see the histogram peaks about $2$ which is the value of the integral"
   ]
  },
  {
   "cell_type": "code",
   "execution_count": 61,
   "id": "75bedca2",
   "metadata": {},
   "outputs": [
    {
     "data": {
      "text/plain": [
       "(array([  1.,   0.,   0.,   2.,   3.,   4.,  10.,   9.,  18.,  31.,  36.,\n",
       "         47.,  53.,  66.,  88.,  78., 103.,  83.,  84.,  77.,  54.,  52.,\n",
       "         27.,  23.,  19.,  14.,   8.,   4.,   2.,   4.]),\n",
       " array([1.88460119, 1.89148104, 1.89836088, 1.90524073, 1.91212057,\n",
       "        1.91900042, 1.92588027, 1.93276011, 1.93963996, 1.9465198 ,\n",
       "        1.95339965, 1.96027949, 1.96715934, 1.97403918, 1.98091903,\n",
       "        1.98779887, 1.99467872, 2.00155856, 2.00843841, 2.01531825,\n",
       "        2.0221981 , 2.02907794, 2.03595779, 2.04283764, 2.04971748,\n",
       "        2.05659733, 2.06347717, 2.07035702, 2.07723686, 2.08411671,\n",
       "        2.09099655]),\n",
       " <BarContainer object of 30 artists>)"
      ]
     },
     "execution_count": 61,
     "metadata": {},
     "output_type": "execute_result"
    },
    {
     "data": {
      "image/png": "[encoded data removed]",
      "text/plain": [
       "<Figure size 640x480 with 1 Axes>"
      ]
     },
     "metadata": {},
     "output_type": "display_data"
    }
   ],
   "source": [
    "plt.title(\"distribution of area calculated\")\n",
    "plt.xlabel(\"integral values\")\n",
    "plt.ylabel(\"frequency\")\n",
    "plt.hist(area,bins=30,ec='black')\n"
   ]
  },
  {
   "cell_type": "code",
   "execution_count": 35,
   "id": "d84ae97a",
   "metadata": {},
   "outputs": [],
   "source": [
    " "
   ]
  },
  {
   "cell_type": "code",
   "execution_count": 58,
   "id": "fe0f96d5",
   "metadata": {},
   "outputs": [
    {
     "ename": "AttributeError",
     "evalue": "'list' object has no attribute 'mean'",
     "output_type": "error",
     "traceback": [
      "\u001b[1;31m---------------------------------------------------------------------------\u001b[0m",
      "\u001b[1;31mAttributeError\u001b[0m                            Traceback (most recent call last)",
      "\u001b[1;32m~\\AppData\\Local\\Temp\\ipykernel_28472\\3684303009.py\u001b[0m in \u001b[0;36m<module>\u001b[1;34m\u001b[0m\n\u001b[1;32m----> 1\u001b[1;33m \u001b[0marea\u001b[0m\u001b[1;33m.\u001b[0m\u001b[0mmean\u001b[0m\u001b[1;33m(\u001b[0m\u001b[1;33m)\u001b[0m\u001b[1;33m\u001b[0m\u001b[1;33m\u001b[0m\u001b[0m\n\u001b[0m",
      "\u001b[1;31mAttributeError\u001b[0m: 'list' object has no attribute 'mean'"
     ]
    }
   ],
   "source": []
  },
  {
   "cell_type": "code",
   "execution_count": null,
   "id": "d475ac50",
   "metadata": {},
   "outputs": [],
   "source": []
  }
 ],
 "metadata": {
  "kernelspec": {
   "display_name": "Python 3 (ipykernel)",
   "language": "python",
   "name": "python3"
  },
  "language_info": {
   "codemirror_mode": {
    "name": "ipython",
    "version": 3
   },
   "file_extension": ".py",
   "mimetype": "text/x-python",
   "name": "python",
   "nbconvert_exporter": "python",
   "pygments_lexer": "ipython3",
   "version": "3.9.13"
  }
 },
 "nbformat": 4,
 "nbformat_minor": 5
}
